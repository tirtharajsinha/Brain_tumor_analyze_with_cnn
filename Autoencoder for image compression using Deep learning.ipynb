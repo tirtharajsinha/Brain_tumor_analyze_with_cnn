{
 "cells": [
  {
   "cell_type": "markdown",
   "metadata": {},
   "source": [
    "# Autoencoder for image compression using Deep learning"
   ]
  },
  {
   "cell_type": "code",
   "execution_count": 1,
   "metadata": {},
   "outputs": [],
   "source": [
    "# install python libraties requires to run the code in your workspace\n",
    "# !pip install -r requirements.txt"
   ]
  },
  {
   "cell_type": "code",
   "execution_count": 12,
   "metadata": {},
   "outputs": [],
   "source": [
    "#importing librarys\n",
    "\n",
    "# cv2 is a python extarnal package to do image processing and manipulation related stuff.\n",
    "import cv2 \n",
    "\n",
    "# imutils is a series of convenience functions to make basic image processing easy.\n",
    "import imutils\n",
    "\n",
    "# tensorflow is a python library for machine learning and artificial intelligence related work.\n",
    "import tensorflow as tf \n",
    "\n",
    "\n",
    "# NumPy is a Python library used for working with arrays\n",
    "import numpy as np\n",
    "\n",
    "\n",
    "\n",
    "# Keras is a library that provides a Python interface for artificial neural networks. \n",
    "# Keras acts as an interface for the TensorFlow library.\n",
    "import keras\n",
    "\n",
    "\n",
    "# 1. Keras layers are the building blocks of the Keras library that can be stacked together for creating neural network models.\n",
    "# 2. Keras Conv2D creates a 2D convolution kernel that is wind with layers input which helps produce a tensor of outputs.\n",
    "# 3. maxpooling2D Downsamples the input along its spatial dimensions by taking the maximum value over an input window for each channel of the input. \n",
    "# 4 .Flattening is converting the data into a 1-dimensional array for inputting it to the next layer. \n",
    "# 5 .Dropout regularization technique for reducing overfitting in neural networks by preventing complex co-adaptations on training data.\n",
    "# 6. Batch normalization is a technique for training very deep neural networks that standardizes the inputs to a layer for each mini-batch. \n",
    "from keras.layers import Conv2D, MaxPooling2D, Flatten, Dense, Dropout, BatchNormalization\n",
    "\n",
    "\n",
    "#  Model groups layers into an object with training and inference features.\n",
    "from tensorflow.keras.models import Model\n",
    "\n",
    "# tensorflow.keras.callbacks is used to visualize training of a model.\n",
    "from tensorflow.keras.callbacks import TensorBoard, ModelCheckpoint \n",
    "\n",
    "# used to split dataset(features and target) into test and test\n",
    "from sklearn.model_selection import train_test_split\n",
    "\n",
    "# F1/F Score is a measure of how accurate a model is by using Precision and Recall following the \n",
    "# formula of: F1_Score = 2 * ((Precision * Recall) / (Precision + Recall)) \n",
    "# Precision is commonly called positive predictive value.\n",
    "from sklearn.metrics import f1_score\n",
    "\n",
    "# shuffle the dataset for a even mixture of each type of feature and target.it gives better result.\n",
    "from sklearn.utils import shuffle\n",
    "\n",
    "# A one hot encoding allows the representation of categorical data to be more expressive.\n",
    "from sklearn.preprocessing import OneHotEncoder\n",
    "\n",
    "# confusion matrix is used to evaluate the accuracy of a classification.[[TP,FP],[FN,TN]]\n",
    "# A classification report is a performance evaluation metric in machine learning. \n",
    "# It is used to show the precision, recall, F1 Score, and support of your trained classification model.\n",
    "from sklearn.metrics import confusion_matrix,classification_report\n",
    "\n",
    "# The OS module in Python provides functions for interacting with the operating system.\n",
    "import os\n",
    "\n",
    "# Matplotlib is a data visualization and graphical plotting library for Python.\n",
    "import matplotlib.pyplot as plt\n",
    "\n",
    "# seaborn is alse a data visualization and graphical plotting library for Python.\n",
    "import seaborn as sn\n",
    "\n",
    "# used to display markdown,image,control (frontend utilities)\n",
    "from IPython import display\n",
    "\n",
    "# to subpress warning\n",
    "import warnings\n",
    "warnings.filterwarnings(\"ignore\")\n",
    "\n",
    "\n",
    "# dataset path \n",
    "path = \"D:/Image_datasets/DATASET\"\n",
    "# make sure in this dir two folder named \"yes\" and \"no\" is present. "
   ]
  },
  {
   "cell_type": "code",
   "execution_count": 13,
   "metadata": {},
   "outputs": [
    {
     "name": "stdout",
     "output_type": "stream",
     "text": [
      "PhysicalDevice(name='/physical_device:CPU:0', device_type='CPU')\n"
     ]
    }
   ],
   "source": [
    "# GPU Info \n",
    "try:\n",
    "    import GPUtil\n",
    "except:\n",
    "    !pip install GPUtil\n",
    "    import GPUtil\n",
    "\n",
    "    \n",
    "# check physical computing devices\n",
    "device=tf.config.experimental.list_physical_devices()\n",
    "for i in device:\n",
    "    print(i)\n",
    "if len(device)>1:\n",
    "    # find GPU details\n",
    "    print(\"=\"*20, \"GPU Details\", \"=\"*20)\n",
    "    gpus = GPUtil.getGPUs()\n",
    "    for gpu in gpus:\n",
    "        print(gpu_id,gpu.name, gpu.driver,gpu.memoryTotal,gpu.temperature)\n",
    "\n"
   ]
  },
  {
   "cell_type": "code",
   "execution_count": 14,
   "metadata": {},
   "outputs": [],
   "source": [
    "# this function crop out the unnecessary part of a image.\n",
    "# it takes two parameter -> image : numpy/cv2 image array , plot : binary (You want to plot after before effect of the image)\n",
    "\n",
    "\n",
    "def image_threshholder(image, plot=False):\n",
    "    \n",
    "    # binary threshholding the image to clean the gray scale range and makes the image binary colored based on range.\n",
    "#     to remove thresh holding comment the next line\n",
    "    new_image= cv2.threshold(image, 100, 255, cv2.THRESH_BINARY,cv2.CHAIN_APPROX_SIMPLE)[1]\n",
    "    if plot:\n",
    "        # plots the after before effect on the image based on parameter plot\n",
    "        # plot if plot=true, ignore the if block if plot=False\n",
    "        plt.figure()\n",
    "        plt.subplot(1,2,1)\n",
    "        plt.imshow(image)\n",
    "        plt.tick_params(axis=\"both\", which=\"both\",\n",
    "                        top=False,bottom=False,left=False,right=False,\n",
    "                       labelbottom=False,labeltop=False,labelleft=False,\n",
    "                       labelright=False)\n",
    "        plt.title(\"original image\")\n",
    "        plt.subplot(1,2,2)\n",
    "        plt.imshow(new_image)\n",
    "        plt.tick_params(axis=\"both\", which=\"both\",\n",
    "                        top=False,bottom=False,left=False,right=False,\n",
    "                       labelbottom=False,labeltop=False,labelleft=False,\n",
    "                       labelright=False)\n",
    "        plt.title(\"processed image\")\n",
    "        plt.show()\n",
    "        \n",
    "    return new_image"
   ]
  },
  {
   "cell_type": "code",
   "execution_count": 15,
   "metadata": {},
   "outputs": [
    {
     "data": {
      "image/png": "[encoded data removed]",
      "text/plain": [
       "<Figure size 432x288 with 2 Axes>"
      ]
     },
     "metadata": {},
     "output_type": "display_data"
    },
    {
     "name": "stdout",
     "output_type": "stream",
     "text": [
      "\n"
     ]
    }
   ],
   "source": [
    "# testing the crop_contour_brain_img() function\n",
    "example_image=cv2.imread(path+\"/3.jpg\")\n",
    "img=image_threshholder(example_image,True)\n",
    "# plt.imshow(img)\n",
    "print()"
   ]
  },
  {
   "cell_type": "code",
   "execution_count": 16,
   "metadata": {},
   "outputs": [
    {
     "name": "stdout",
     "output_type": "stream",
     "text": [
      "🗁 D:/Image_datasets/DATASET\n"
     ]
    }
   ],
   "source": [
    "# view directory tree\n",
    "def tree_printer(root):\n",
    "    try:\n",
    "        if \":\" not in root:\n",
    "            root=os.getcwd().replace(\"\\\\\",\"/\")+root\n",
    "            print(root)\n",
    "        if not os.path.isdir(root) and root!=\"\":\n",
    "            print(root,\": path not exists....\")\n",
    "            return\n",
    "    except:\n",
    "        print(\"🛠️ set path of the data set from your local mechine\")\n",
    "        return\n",
    "    \n",
    "    \n",
    "    print(\"🗁\",root)\n",
    "    for name in os.listdir(root):\n",
    "        try:\n",
    "            print(\" |- 🗁\",name,\" \"*2+\"🏴\",len(os.listdir(os.path.join(root, name))),\"items\")\n",
    "        except:\n",
    "            continue\n",
    "            \n",
    "tree_printer(path)"
   ]
  },
  {
   "cell_type": "code",
   "execution_count": 25,
   "metadata": {},
   "outputs": [],
   "source": [
    "image_size=(28,28) # defining the image size \n",
    "hotencoder = OneHotEncoder() # calling the OneHotEncoder\n",
    "hotencoder.fit([[0], [1]]) # using binary crossentropy over catagorical crossentropy\n",
    "\n",
    "\n",
    "# load the images from the local mechine and process before putting the resultent list.\n",
    "def load_images(path,type=[\"jpg\",\"jpeg\"],target=0,images=[],orgimages=[],result=[]):\n",
    "    for filepath in os.listdir(path):\n",
    "        if filepath.split(\".\")[-1].lower() in type:\n",
    "            \n",
    "            img=cv2.imread(path+\"/\"+filepath)\n",
    "            # filtering the image\n",
    "            img=image_threshholder(img)\n",
    "            # resizing the image in defined size\n",
    "            try:\n",
    "                img=cv2.resize(img,image_size)\n",
    "            except:\n",
    "                print(path+\"/\"+filepath)\n",
    "                continue\n",
    "            # convert the image to gray\n",
    "            img = cv2.cvtColor(img, cv2.COLOR_BGR2GRAY)\n",
    "            # 3d image to 2D\n",
    "            img = np.expand_dims(img, 2)\n",
    "            # 2D to 1D convertion\n",
    "            img=img.reshape(-1)\n",
    "            # returning to 2d image\n",
    "            orgimg=np.reshape(img,image_size)\n",
    "            # putting in image array\n",
    "            img=np.array(img)\n",
    "            # inserting flatten image to list\n",
    "            images.append(img)\n",
    "            # inserting 2D image to list\n",
    "            orgimages.append(orgimg)\n",
    "            # appening the terget 0 for tumor,1 for no tumor\n",
    "            result.append(target)\n",
    "            \n",
    "    return [images,orgimages,result]\n",
    "\n",
    "# plot images \n",
    "def show_image(datasets,num=4):  \n",
    "    for i in range(num**2):\n",
    "        plt.subplot(num, num, i+1)\n",
    "        plt.imshow(datasets[i])\n",
    "        plt.axis('off')\n"
   ]
  },
  {
   "cell_type": "code",
   "execution_count": null,
   "metadata": {},
   "outputs": [],
   "source": []
  },
  {
   "cell_type": "code",
   "execution_count": 26,
   "metadata": {},
   "outputs": [
    {
     "name": "stdout",
     "output_type": "stream",
     "text": [
      "D:/Image_datasets/DATASET/46.jpg\n",
      "D:/Image_datasets/DATASET/58.jpg\n"
     ]
    }
   ],
   "source": [
    "# load the image having brain cancer\n",
    "images,orgimages,result=load_images(path,target=0,images=[],orgimages=[],result=[])\n",
    "# print(images.shape)\n",
    "# show_image(images)\n",
    "# print(result)\n"
   ]
  },
  {
   "cell_type": "code",
   "execution_count": 27,
   "metadata": {},
   "outputs": [],
   "source": [
    "# # loading the images not having brain cancer\n",
    "# images,orgimages,result=load_images(path+\"/no\",target=1,images=images,orgimages=orgimages,result=result)\n",
    "# # print(no_images.shape)\n",
    "# # show_image(images)\n",
    "# print(\"total images :\",len(result),\"| total targets :\",len(images))"
   ]
  },
  {
   "cell_type": "markdown",
   "metadata": {},
   "source": [
    "# validation of data,original data and target"
   ]
  },
  {
   "cell_type": "code",
   "execution_count": 28,
   "metadata": {},
   "outputs": [
    {
     "name": "stdout",
     "output_type": "stream",
     "text": [
      "(130, 784)\n"
     ]
    }
   ],
   "source": [
    "# image dataset is stored in variable data\n",
    "data=np.array(images)\n",
    "print(data.shape)\n",
    "data=data/255"
   ]
  },
  {
   "cell_type": "code",
   "execution_count": 29,
   "metadata": {},
   "outputs": [
    {
     "name": "stdout",
     "output_type": "stream",
     "text": [
      "(130, 28, 28)\n"
     ]
    }
   ],
   "source": [
    "# unnecessary part for this project\n",
    "orgdata=np.array(orgimages)\n",
    "print(orgdata.shape)"
   ]
  },
  {
   "cell_type": "code",
   "execution_count": 30,
   "metadata": {},
   "outputs": [
    {
     "name": "stdout",
     "output_type": "stream",
     "text": [
      "(130,)\n"
     ]
    }
   ],
   "source": [
    "target=np.array(result)\n",
    "print(target.shape)"
   ]
  },
  {
   "cell_type": "markdown",
   "metadata": {},
   "source": [
    "## spliting of data,orgdata,target"
   ]
  },
  {
   "cell_type": "code",
   "execution_count": null,
   "metadata": {},
   "outputs": [],
   "source": [
    "# customized test train splitter\n",
    "def test_train_splitter(data,ratio=0.2):\n",
    "    range=int(data.shape[0]*(1-0.2))\n",
    "    x_train=data[:range]\n",
    "    x_test=data[range:]\n",
    "    return x_train,x_test\n",
    "\n",
    "x_train,x_test=test_train_splitter(data)\n",
    "print(x_train.shape,x_test.shape)"
   ]
  },
  {
   "cell_type": "markdown",
   "metadata": {},
   "source": [
    "# model starts here -----------:)"
   ]
  },
  {
   "cell_type": "code",
   "execution_count": null,
   "metadata": {},
   "outputs": [],
   "source": [
    "# importing necessary packages\n",
    "# view explanation in 2nd cell\n",
    "import tensorflow.keras.layers\n",
    "import tensorflow.keras.models\n",
    "import tensorflow.keras.optimizers\n",
    "import tensorflow.keras.datasets"
   ]
  },
  {
   "cell_type": "markdown",
   "metadata": {},
   "source": [
    "## encoder model"
   ]
  },
  {
   "cell_type": "code",
   "execution_count": null,
   "metadata": {},
   "outputs": [],
   "source": [
    "# encoder model func\n",
    "# encode the image in 64bit image(8X8)\n",
    "def get_encoder():\n",
    "    # Encoder input shape (784,)\n",
    "    x = tensorflow.keras.layers.Input(shape=(784), name=\"encoder_input\")\n",
    "\n",
    "    # neurons in a Dense layer is now 300 \n",
    "    encoder_dense_layer1 = tensorflow.keras.layers.Dense(units=300, name=\"encoder_dense_1\")(x)\n",
    "    encoder_activ_layer1 = tensorflow.keras.layers.LeakyReLU(name=\"encoder_leakyrelu_1\")(encoder_dense_layer1)\n",
    "\n",
    "    # neurons in a Dense layer is decreased to 64\n",
    "    encoder_dense_layer2 = tensorflow.keras.layers.Dense(units=64, name=\"encoder_dense_2\")(encoder_activ_layer1)\n",
    "    encoder_output = tensorflow.keras.layers.LeakyReLU(name=\"encoder_output\")(encoder_dense_layer2)\n",
    "\n",
    "    # containerized the model\n",
    "    encoder = tensorflow.keras.models.Model(x, encoder_output, name=\"encoder_model\")\n",
    "    return encoder\n",
    "\n",
    "encoder=get_encoder()\n",
    "encoder.summary()"
   ]
  },
  {
   "cell_type": "markdown",
   "metadata": {},
   "source": [
    "## decoder model"
   ]
  },
  {
   "cell_type": "code",
   "execution_count": null,
   "metadata": {},
   "outputs": [],
   "source": [
    "# decoder model func\n",
    "# encode the encoded image(64bit) back to original size(784 bit).\n",
    "def get_decoder():\n",
    "    decoder_input = tensorflow.keras.layers.Input(shape=(64), name=\"decoder_input\")\n",
    "\n",
    "    # neurons in a Dense layer is now 300 \n",
    "    decoder_dense_layer1 = tensorflow.keras.layers.Dense(units=300, name=\"decoder_dense_1\")(decoder_input)\n",
    "    decoder_activ_layer1 = tensorflow.keras.layers.LeakyReLU(name=\"decoder_leakyrelu_1\")(decoder_dense_layer1)\n",
    "\n",
    "    # neurons in a Dense layer is increased to 300.\n",
    "    decoder_dense_layer2 = tensorflow.keras.layers.Dense(units=784, name=\"decoder_dense_2\")(decoder_activ_layer1)\n",
    "    decoder_output = tensorflow.keras.layers.LeakyReLU(name=\"decoder_output\")(decoder_dense_layer2)\n",
    "    # containerized the model\n",
    "    decoder = tensorflow.keras.models.Model(decoder_input, decoder_output, name=\"decoder_model\")\n",
    "    return decoder\n",
    "\n",
    "decoder=get_decoder()\n",
    "decoder.summary()"
   ]
  },
  {
   "cell_type": "markdown",
   "metadata": {},
   "source": [
    "## autoencoder model"
   ]
  },
  {
   "cell_type": "code",
   "execution_count": null,
   "metadata": {},
   "outputs": [],
   "source": [
    "# Autoencoder model\n",
    "# combine and sync the encoder and decoder model.\n",
    "# parameter encoder model and decoder model.\n",
    "\n",
    "def autoencoder(encoder,decoder):\n",
    "    ae_input = tensorflow.keras.layers.Input(shape=(784), name=\"AE_input\")\n",
    "    # encoding the input images\n",
    "    ae_encoder_output = encoder(ae_input)\n",
    "    # decoding the encoded image back to original shape\n",
    "    ae_decoder_output = decoder(ae_encoder_output)\n",
    "\n",
    "    ae = tensorflow.keras.models.Model(ae_input, ae_decoder_output, name=\"AE\")\n",
    "    return ae\n",
    "\n",
    "\n",
    "ae=autoencoder(encoder,decoder)\n",
    "ae.summary()\n",
    "\n",
    "    \n",
    "\n"
   ]
  },
  {
   "cell_type": "code",
   "execution_count": null,
   "metadata": {},
   "outputs": [],
   "source": [
    "# calculating RMSE of autoencoder\n",
    "# RMSE is a measure of how spread out these residuals are. \n",
    "# It tells you how concentrated the data is around the line of best fit. \n",
    "def rmse(y_true, y_predict):\n",
    "    return tensorflow.keras.backend.mean(tensorflow.keras.backend.square(y_true-y_predict))\n",
    "\n",
    "# AE Compilation\n",
    "ae.compile(loss=\"mse\", optimizer=tensorflow.keras.optimizers.Adam(learning_rate=0.0005))\n",
    "\n"
   ]
  },
  {
   "cell_type": "code",
   "execution_count": null,
   "metadata": {},
   "outputs": [],
   "source": [
    "# preparing brain tumor dataset spliting into test train default ratio is 0.2\n",
    "\n",
    "x_train,x_test=test_train_splitter(data)\n",
    "print(x_train.shape,x_test.shape)\n",
    "\n",
    "x_train_org,x_test_org=test_train_splitter(orgdata)\n",
    "print(x_train_org.shape,x_test_org.shape)\n",
    "\n",
    "y_train,y_test=test_train_splitter(target)\n",
    "print(y_train.shape,y_test.shape)\n",
    "\n"
   ]
  },
  {
   "cell_type": "code",
   "execution_count": null,
   "metadata": {},
   "outputs": [],
   "source": [
    "# # Preparing MNIST Dataset\n",
    "# (x_train_orig, y_train), (x_test_orig, y_test) = tensorflow.keras.datasets.mnist.load_data()\n",
    "# x_train_orig = x_train_orig.astype(\"float32\") / 255.0\n",
    "# x_test_orig = x_test_orig.astype(\"float32\") / 255.0\n",
    "\n",
    "# x_train = numpy.reshape(x_train_orig, newshape=(x_train_orig.shape[0], numpy.prod(x_train_orig.shape[1:])))\n",
    "# x_test = numpy.reshape(x_test_orig, newshape=(x_test_orig.shape[0], numpy.prod(x_test_orig.shape[1:])))\n",
    "# # x_test_orig.shape,x_test.shape,y_test.shape\n",
    "# y_test[0]"
   ]
  },
  {
   "cell_type": "code",
   "execution_count": null,
   "metadata": {},
   "outputs": [],
   "source": [
    "# Training Autoencoder\n",
    "ae.fit(x_train, x_train, epochs=20, batch_size=10, shuffle=True, validation_data=(x_test, x_test))\n",
    "\n",
    "encoded_images = encoder.predict(x_train)\n",
    "decoded_images = decoder.predict(encoded_images)\n",
    "\n",
    "# reshaping the image of (784,) to plotable image(28,28)\n",
    "decoded_images_orig = np.reshape(decoded_images, newshape=(decoded_images.shape[0], 28, 28))\n"
   ]
  },
  {
   "cell_type": "markdown",
   "metadata": {},
   "source": [
    "# Analyzing compression ratio"
   ]
  },
  {
   "cell_type": "code",
   "execution_count": null,
   "metadata": {},
   "outputs": [],
   "source": [
    "print(\"encoder image shape\",encoded_images[0].shape)\n",
    "print(\"decoder image shape\",decoded_images[0].shape)\n",
    "\n",
    "# compression_ratio=encoded_image_size / decoded_images or original images size\n",
    "# as we have input of images of size (784,) and encoder output is(64,)\n",
    "\n",
    "compression_ratio=encoded_images[0].shape[0] / decoded_images[0].shape[0]\n",
    "print(\"compression ratio :\", compression_ratio)\n",
    "\n",
    "# compression percentage is compression ratio * 100\n",
    "print(\"compression percentage :\",round(compression_ratio*100,2),\"%\")\n",
    "\n",
    "# loss at encoding is 100 - compression ratio * 100\n",
    "print(\"compression loss percentage :\",round(100 - (compression_ratio*100),2),\"%\")\n",
    "\n",
    "\n",
    "# ploting the comparition between original,encoded and decoded image.\n",
    "\n",
    "plt.figure()\n",
    "plt.subplot(1,3,1)\n",
    "original_sample=orgdata[0]\n",
    "plt.imshow(original_sample,cmap=\"gray\")\n",
    "plt.tick_params(axis=\"both\", which=\"both\",\n",
    "                top=False,bottom=False,left=False,right=False,\n",
    "                labelbottom=False,labeltop=False,labelleft=False,\n",
    "                labelright=False)\n",
    "plt.title(\"original image\")\n",
    "        \n",
    "plt.subplot(1,3,2)\n",
    "encoded_sample = np.reshape(encoded_images, newshape=(decoded_images.shape[0], 8, 8))[0]\n",
    "plt.imshow(encoded_sample,cmap=\"gray\")\n",
    "plt.tick_params(axis=\"both\", which=\"both\",\n",
    "                top=False,bottom=False,left=False,right=False,\n",
    "                labelbottom=False,labeltop=False,labelleft=False,\n",
    "                labelright=False)\n",
    "plt.title(\"encoded image\")\n",
    "\n",
    "plt.subplot(1,3,3)\n",
    "decoded_sample=decoded_images_orig[0]\n",
    "plt.imshow(decoded_sample,cmap=\"gray\")\n",
    "plt.tick_params(axis=\"both\", which=\"both\",\n",
    "                top=False,bottom=False,left=False,right=False,\n",
    "                labelbottom=False,labeltop=False,labelleft=False,\n",
    "                labelright=False)\n",
    "plt.title(\"decoded image\")\n",
    "plt.show()\n"
   ]
  },
  {
   "cell_type": "code",
   "execution_count": null,
   "metadata": {},
   "outputs": [],
   "source": [
    "64/784"
   ]
  },
  {
   "cell_type": "code",
   "execution_count": null,
   "metadata": {},
   "outputs": [],
   "source": [
    "import warnings\n",
    "warnings.filterwarnings(\"ignore\")\n",
    "# comparing some more images between original and decode image.\n",
    "num_images_to_show = 5\n",
    "for im_ind in range(num_images_to_show):\n",
    "    plot_ind = im_ind*2 + 1\n",
    "    rand_ind = np.random.randint(low=0, high=x_train.shape[0])\n",
    "    plt.subplot(num_images_to_show, 2, plot_ind)\n",
    "    plt.imshow(x_train_org[rand_ind, :, :], cmap=\"gray\")\n",
    "    plt.subplot(num_images_to_show, 2, plot_ind+1)\n",
    "    \n",
    "    # convert 2D image to 3D\n",
    "    img_bgr = cv2.cvtColor(decoded_images_orig[rand_ind], cv2.COLOR_GRAY2BGR)\n",
    "    # Clipping data to the valid range for imshow with RGB data ([0..1]\n",
    "    plt.imshow(np.clip(img_bgr, 0, 1))\n",
    "\n",
    "plt.figure()\n",
    "plt.scatter(encoded_images[:, 0], encoded_images[:, 1], c=y_train)\n",
    "plt.colorbar()"
   ]
  },
  {
   "cell_type": "code",
   "execution_count": null,
   "metadata": {},
   "outputs": [],
   "source": [
    "# !jt -t oceans16 -T -N -kl"
   ]
  },
  {
   "cell_type": "code",
   "execution_count": null,
   "metadata": {},
   "outputs": [],
   "source": [
    "# !jt -l\n",
    "# !jt -r"
   ]
  },
  {
   "cell_type": "code",
   "execution_count": null,
   "metadata": {},
   "outputs": [],
   "source": []
  }
 ],
 "metadata": {
  "kernelspec": {
   "display_name": "Python 3",
   "language": "python",
   "name": "python3"
  },
  "language_info": {
   "codemirror_mode": {
    "name": "ipython",
    "version": 3
   },
   "file_extension": ".py",
   "mimetype": "text/x-python",
   "name": "python",
   "nbconvert_exporter": "python",
   "pygments_lexer": "ipython3",
   "version": "3.8.8"
  }
 },
 "nbformat": 4,
 "nbformat_minor": 4
}
